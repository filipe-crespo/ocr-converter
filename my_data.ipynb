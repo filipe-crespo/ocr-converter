{
 "cells": [
  {
   "cell_type": "code",
   "execution_count": 1,
   "metadata": {},
   "outputs": [],
   "source": [
    "import os\n",
    "import glob\n",
    "import string\n",
    "import ntpath\n",
    "import numpy as np\n",
    "from PIL import Image, ImageDraw, ImageFont"
   ]
  },
  {
   "cell_type": "code",
   "execution_count": 59,
   "metadata": {},
   "outputs": [],
   "source": [
    "fontSize = 40\n",
    "imgSize = (32,32)\n",
    "position = (0, 0)\n",
    "dataset_path = './Synthetic_dataset/'"
   ]
  },
  {
   "cell_type": "code",
   "execution_count": 60,
   "metadata": {},
   "outputs": [
    {
     "output_type": "stream",
     "name": "stdout",
     "text": "1\n"
    }
   ],
   "source": [
    "fonts_list = np.genfromtxt(\"./data_init/fonts.txt\", dtype='str')\n",
    "total_fonts = fonts_list.size\n",
    "print(total_fonts)"
   ]
  },
  {
   "cell_type": "code",
   "execution_count": 63,
   "metadata": {},
   "outputs": [
    {
     "output_type": "execute_result",
     "data": {
      "text/plain": "array([0, 1])"
     },
     "metadata": {},
     "execution_count": 63
    }
   ],
   "source": [
    "\n",
    "char_list = np.genfromtxt(\"./data_init/charters.txt\", dtype='str')\n",
    "char_list = np.arange(2)\n",
    "\n",
    "char_list"
   ]
  },
  {
   "cell_type": "code",
   "execution_count": 68,
   "metadata": {},
   "outputs": [
    {
     "output_type": "execute_result",
     "data": {
      "text/plain": "1"
     },
     "metadata": {},
     "execution_count": 68
    }
   ],
   "source": [
    "all_fonts = glob.glob(\"./data_init/ttf/*.ttf\")\n",
    "f_flag = np.zeros(total_fonts)\n",
    "\n",
    "f_flag\n",
    "total_fonts"
   ]
  },
  {
   "cell_type": "code",
   "execution_count": null,
   "metadata": {},
   "outputs": [],
   "source": [
    "for sys_font in all_fonts:\n",
    "   font_file = ntpath.basename(sys_font)\n",
    "   font_file = font_file.rsplit('.')\n",
    "   font_file = font_file[0]\n",
    "   f_idx = 0\n",
    "   for font in fonts_list:\n",
    "      f_lower = font.lower()\n",
    "      s_lower = sys_font.lower()\n",
    "      #Check desired font\n",
    "      if f_lower in s_lower:\n",
    "         path = sys_font\n",
    "         font = ImageFont.truetype(path, fontSize)\n",
    "         f_flag[f_idx] = 1\n",
    "         for ch in all_char_list:\n",
    "            image = Image.new(\"RGB\", imgSize, (255,255,255))\n",
    "            draw = ImageDraw.Draw(image)\n",
    "            pos_x = 0\n",
    "            pos_y = 0\n",
    "            pos_idx=0\n",
    "            for y in [pos_y-1, pos_y, pos_y+1]:\n",
    "               for x in [pos_x-1, pos_x, pos_x+1]:\n",
    "                  position = (x,y)\n",
    "\n",
    "                  text_width, text_height = draw.textsize(ch, font)\n",
    "                  position = ((32-text_width)/2,(32-text_height)/2)\n",
    "                  \n",
    "                  draw.text(position, ch, (0,0,0), font=font)\n",
    "                  ##without this flag, it creates 'Calibri_a.jpg' even for 'Calibri_A.jpg'\n",
    "                  ##which overwrites lowercase images\n",
    "                  l_u_d_flag = \"u\"\n",
    "                  if ch.islower():\n",
    "                     l_u_d_flag = \"l\"\n",
    "                  elif ch.isdigit():\n",
    "                     l_u_d_flag = \"d\"\n",
    "                  file_name = font_file + '_' + l_u_d_flag + '_' + str(pos_idx) + '_' + ch + '.jpg'\n",
    "                  file_name = os.path.join(dataset_path,file_name)\n",
    "                  image.save(file_name)\n",
    "                  pos_idx = pos_idx + 1\n",
    "      f_idx = f_idx + 1"
   ]
  }
 ],
 "metadata": {
  "language_info": {
   "codemirror_mode": {
    "name": "ipython",
    "version": 3
   },
   "file_extension": ".py",
   "mimetype": "text/x-python",
   "name": "python",
   "nbconvert_exporter": "python",
   "pygments_lexer": "ipython3",
   "version": "3.8.2-final"
  },
  "orig_nbformat": 2,
  "kernelspec": {
   "name": "python38264bit242babdc3f15433093b78a9d95ed2f76",
   "display_name": "Python 3.8.2 64-bit"
  }
 },
 "nbformat": 4,
 "nbformat_minor": 2
}